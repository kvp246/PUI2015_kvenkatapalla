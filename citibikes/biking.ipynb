{
 "metadata": {
  "name": "",
  "signature": "sha256:aaed90f181109c43fd35c0f642163002a1d537801cb0f3ed0a9fcda97cc7b070"
 },
 "nbformat": 3,
 "nbformat_minor": 0,
 "worksheets": [
  {
   "cells": [
    {
     "cell_type": "markdown",
     "metadata": {},
     "source": [
      "# Testing whether more people ride citibike from Manhattan to Brooklyn, or from Brooklyn to Manhattan\n",
      "\n",
      "# the citibike september 2015 file can be obtained here\n",
      "# https://drive.google.com/file/d/0Bx8AmvwAoY0jUzV1dXltOXZHWTQ/view?usp=sharing\n",
      "\n",
      "Dataset: open data for citibike ridership for September 2015\n",
      "\n",
      "Idea: We want to know if the ridership from Brooklyn to Manhattan during Weekdays is Greater than that from Manhattan to Brooklyn during Weekdays.\n",
      "\n",
      "Terms: \n",
      "\n",
      "\"Manhattan\": Citibike stations in Manhattan and The Bronx\n",
      "\n",
      "\"Brooklyn\": Citibike stations in Brooklyn and Queens\n",
      "\n",
      "Control Group: People moving from Manhattan to Brooklyn\n",
      "\n",
      "Test Group: People riding from Brooklyn to Manhattan\n",
      "\n",
      "Hypotheses:\n",
      "\n",
      "Null Hypothesis: The total number of rides from Manhattan to Brooklyn on weekdays is greater than the total number of rides from Brooklyn to Manhattan on weekdays.\n",
      "\n",
      "Alternative Hypothesis: The total number of rides from Manhattan to Brooklyn on weekdays is less than or equal to the total number of rides from Brooklyn to Manhattan on weekdays.\n",
      "\n",
      "Process:\n",
      "First, we took the json file of citibike stations from the citibike database and extracted the station id, latitude and longitude. \n",
      "Then we used ArcGis to lasso around the stations in Manhattan+Bronx and add the value of 'Manhattan' against those stations in a new column entitled 'Boroughs', and we did the same for the stations in Brooklyn + Queens with the value 'Brooklyn'.\n",
      "Next, we used Python to left-join our station-borough table to the citibike csv file using the start station id and repeated the join for stop station id, and deleted the columns we did not need.\n",
      "Then we converted the starttime column into a datetime and calculated which days were weekends and which were weekdays.\n",
      "We counted the weekdays against the boroughs and performed chi-squared testing of the hypothesis.\n",
      "We got chi-squared value of 7 and rejected the null-hypothesis with a confidense of 95%. "
     ]
    },
    {
     "cell_type": "markdown",
     "metadata": {},
     "source": [
      "## Extracting data from JSON, getting a list of stations with latitudes and longitudes"
     ]
    },
    {
     "cell_type": "code",
     "collapsed": false,
     "input": [
      "# importing libraries to work with json, csv, url, and big data frames\n",
      "import json\n",
      "import sys\n",
      "import urllib2 as ulib\n",
      "import csv\n",
      "import pandas as pd\n",
      "import numpy as np\n",
      "\n",
      "# getting json with a list of station id, latitude, longitude\n",
      "Request = ulib.urlopen('http://www.citibikenyc.com/stations/json')\n",
      "datum= json.loads(Request.read())\n",
      "\n",
      "# exploring the json data\n",
      "bike = datum['stationBeanList']\n",
      "\n",
      "# saving the json data into the csv 'bikelist.csv'\n",
      "with open('bikelist.csv', 'wb') as CsvFile:\n",
      "    Writer = csv.writer(CsvFile)\n",
      "    Headers = ['station id', 'latitude', 'longitude']\n",
      "    Writer.writerow(Headers)\n",
      "\n",
      "    for station in bike:\n",
      "        Writer.writerow([station['id'], station['latitude'], station['longitude']])        \n",
      "\n",
      "# After that we split all the stations into the Manhattan ones and Brooklyn ones\n",
      "# We used ArcGis Map for that.\n",
      "# the resulting file is StationsBorough.csv\n",
      "#"
     ],
     "language": "python",
     "metadata": {},
     "outputs": [],
     "prompt_number": 1
    },
    {
     "cell_type": "markdown",
     "metadata": {},
     "source": [
      "## Joining table of stations and boroughs to citibike dataset"
     ]
    },
    {
     "cell_type": "code",
     "collapsed": false,
     "input": [
      "# reading Citibike data for September 2015 into citibike015 and the generated table of station ids and their boroughs\n",
      "boroughs = pd.read_csv('StationsBorough.csv')\n",
      "# the file can be obtained here\n",
      "# https://drive.google.com/file/d/0Bx8AmvwAoY0jUzV1dXltOXZHWTQ/view?usp=sharing\n",
      "citibike0915 = pd.read_csv('Bike.csv')\n"
     ],
     "language": "python",
     "metadata": {},
     "outputs": [],
     "prompt_number": 2
    },
    {
     "cell_type": "code",
     "collapsed": false,
     "input": [
      "# performing left join of the station id table to the original citibike table to \n",
      "# identify where the stations are: in Brooklyn or in Manhattan:\n",
      "# by starting station\n",
      "citibike0915=citibike0915.merge(boroughs, left_on='start station id', right_on='id', how='left', sort=False)\n",
      "\n",
      "#  cleaning data and renaming the adjoined columns\n",
      "citibike0915.drop(['bikeid', 'usertype', 'gender', 'tripduration', 'stoptime', 'start station name', 'birth year', 'end station name', 'id'], axis=1, inplace=True)\n",
      "citibike0915.rename(columns = {'Borough':'Start Borough'}, inplace=True)\n",
      "\n",
      "# performing left join of the station id table to the original citibike table to \n",
      "# identify where the stations are: in Brooklyn or in Manhattan:\n",
      "# by starting station\n",
      "citibike0915=citibike0915.merge(boroughs, left_on='end station id', right_on='id', how='left', sort=False)\n",
      "\n",
      "# cleaning data and renaming the adjoined columns\n",
      "citibike0915.drop('id', axis=1, inplace=True)\n",
      "citibike0915.rename(columns = {'Borough':'End Borough'}, inplace=True)\n",
      "\n",
      "# converting the starttime field from string to datetime\n",
      "citibike0915['starttime'] = pd.to_datetime(citibike0915['starttime'])"
     ],
     "language": "python",
     "metadata": {},
     "outputs": [],
     "prompt_number": 4
    },
    {
     "cell_type": "markdown",
     "metadata": {},
     "source": [
      "## Counting trips in each direction between the boroughs against the weekdays and weekends. Summarizing"
     ]
    },
    {
     "cell_type": "code",
     "collapsed": false,
     "input": [
      "# function to calculate if a given date is a weekday, or a weekend\n",
      "def Weekend(x):\n",
      "    if x.weekday() > 5:\n",
      "        return True\n",
      "    return False\n",
      "\n",
      "# checking if a start time of the trip is a weekend\n",
      "citibike0915['weekend'] = citibike0915['starttime'].apply(lambda x: Weekend(x))"
     ],
     "language": "python",
     "metadata": {},
     "outputs": [],
     "prompt_number": 5
    },
    {
     "cell_type": "code",
     "collapsed": false,
     "input": [
      "print(citibike0915.head(5))"
     ],
     "language": "python",
     "metadata": {},
     "outputs": [
      {
       "output_type": "stream",
       "stream": "stdout",
       "text": [
        "            starttime  start station id  start station latitude  \\\n",
        "0 2015-09-01 00:00:00               263               40.717290   \n",
        "1 2015-09-01 00:00:00               495               40.762699   \n",
        "2 2015-09-01 00:00:01              3119               40.742327   \n",
        "3 2015-09-01 00:00:07               536               40.741444   \n",
        "4 2015-09-01 00:00:09               347               40.728846   \n",
        "\n",
        "   start station longitude  end station id  end station latitude  \\\n",
        "0               -73.996375             307             40.714275   \n",
        "1               -73.993012             449             40.764618   \n",
        "2               -73.954117            3118             40.735550   \n",
        "3               -73.975361             340             40.712690   \n",
        "4               -74.008591             483             40.732233   \n",
        "\n",
        "   end station longitude Start Borough End Borough weekend  \n",
        "0             -73.989900     Manhattan   Manhattan   False  \n",
        "1             -73.987895     Manhattan   Manhattan   False  \n",
        "2             -73.952840      Brooklyn    Brooklyn   False  \n",
        "3             -73.987763     Manhattan   Manhattan   False  \n",
        "4             -73.988900     Manhattan   Manhattan   False  \n"
       ]
      }
     ],
     "prompt_number": 6
    },
    {
     "cell_type": "code",
     "collapsed": false,
     "input": [
      "# counting how many trips happened on a weekday (weekend = false), depending on the direction of the trip:\n",
      "# Brooklyn to Manhattan or Manhattan to Brooklyn\n",
      "citibike0915.groupby(['weekend', 'Start Borough', 'End Borough']).size()"
     ],
     "language": "python",
     "metadata": {},
     "outputs": [
      {
       "metadata": {},
       "output_type": "pyout",
       "prompt_number": 7,
       "text": [
        "weekend  Start Borough  End Borough\n",
        "False    Brooklyn       Brooklyn        97429\n",
        "                        Manhattan       23952\n",
        "         Manhattan      Brooklyn        25568\n",
        "                        Manhattan      989467\n",
        "True     Brooklyn       Brooklyn        17655\n",
        "                        Manhattan        3716\n",
        "         Manhattan      Brooklyn         3838\n",
        "                        Manhattan      120147\n",
        "dtype: int64"
       ]
      }
     ],
     "prompt_number": 7
    },
    {
     "cell_type": "markdown",
     "metadata": {},
     "source": [
      "## Testing the hypothesis. Performing chi-squared and z-tests"
     ]
    },
    {
     "cell_type": "code",
     "collapsed": false,
     "input": [
      "# Performing the chi-square test\n",
      "# Total Frequency\n",
      "Tot_MB_Grp = 29406\n",
      "Tot_BM_Grp = 27668\n",
      "\n",
      "# Weekday frequency of Manhattan to Brooklyn\n",
      "Tot_MBWD_Grp = 25568\n",
      "Tot_MBWE_Grp = Tot_MB_Grp - Tot_MBWD_Grp\n",
      "\n",
      "# Weekday frequency of Brooklyn to Manhattan\n",
      "Tot_BMWD_Grp = 23952\n",
      "Tot_BMWE_Grp = Tot_BM_Grp - Tot_BMWD_Grp\n",
      "\n",
      "# Assigning values to chi-square notation\n",
      "a = Tot_MBWD_Grp\n",
      "b = Tot_BMWD_Grp\n",
      "c = Tot_MBWE_Grp\n",
      "d = Tot_MBWE_Grp\n",
      "\n",
      "# Computing chi-square statistic\n",
      "Ntot = a + b + c + d\n",
      "expected = (a + b)*(c + d)*(a + c)*(b + d)\n",
      "sample_values = [[a,b],[c,d]]\n",
      " \n",
      "chisqstat= lambda N, values, expect : N*((values[0][0]*values[1][1]-values[0][1]*values[1][0])**2)/(expect)\n",
      "\n",
      "# Printing the chi-square statistic value\n",
      "print \"Chi-squared statistics is \", chisqstat(Ntot,  sample_values, expected)"
     ],
     "language": "python",
     "metadata": {},
     "outputs": [
      {
       "output_type": "stream",
       "stream": "stdout",
       "text": [
        "Chi-squared statistics is  7\n"
       ]
      }
     ],
     "prompt_number": 8
    },
    {
     "cell_type": "markdown",
     "metadata": {},
     "source": [
      "### Chi-squared statistics is 7, therefore we reject the null hypothesis with a 95% confidense."
     ]
    },
    {
     "cell_type": "code",
     "collapsed": false,
     "input": [
      "# Z-test\n",
      "\n",
      "#Rides from Brooklyn to Manhattan on weekdays\n",
      "P_0 = 25568.0 / 57074.0\n",
      "#Rides from Manhattan to Brooklyn on weekdays\n",
      "P_1 = 23952.0 / 57074.0\n",
      "\n",
      "#Total number of rides to Manhattan and Brooklyn (Sample Size)\n",
      "n_0=29406.0\n",
      "n_1=27668.0\n",
      "\n",
      "#lets get the counts by multiplying by the sample size\n",
      "Nt_0=25568.0\n",
      "Nt_1=23952.0\n",
      "\n",
      "sp=((P_0*n_0)+(P_1*n_1))/(n_1+n_0)\n",
      "print sp\n",
      "\n",
      "sp_stdev= lambda p, n: np.sqrt( p * ( 1 - p ) /n[0] +  p * ( 1 - p )/n[1]  )\n",
      "\n",
      "\n",
      "sp_stdev_2y=sp_stdev((Nt_0+Nt_1)/(n_0+n_1),[n_0,n_1])\n",
      "\n",
      "zscore = lambda p0, p1, s : (p0-p1)/s\n",
      "z_2y = zscore(P_1, P_0, sp_stdev_2y)\n",
      "print \"z score \", z_2y\n",
      "\n",
      "p_2y=1-0.9998\n",
      "\n",
      "alpha = 0.05\n",
      "def report_result(p,a):\n",
      "    print 'is the p value {0:.2f} smaller than the critical value {1:.2f}? '.format(p,a)\n",
      "    if p<a:\n",
      "        print \"YES!\"\n",
      "    else: print \"NO!\"\n",
      "    \n",
      "    print 'the Null hypothesis is {}'.format( 'rejected' if p<a  else 'not rejected') \n",
      "\n",
      "    \n",
      "report_result(p_2y,alpha)"
     ],
     "language": "python",
     "metadata": {},
     "outputs": [
      {
       "output_type": "stream",
       "stream": "stdout",
       "text": [
        "0.434253862862\n",
        "z score  -9.97585786394\n",
        "is the p value 0.00 smaller than the critical value 0.05? \n",
        "YES!\n",
        "the Null hypothesis is rejected\n"
       ]
      }
     ],
     "prompt_number": 9
    },
    {
     "cell_type": "markdown",
     "metadata": {},
     "source": [
      "### z score is -9.98, therefore the Null hypothesis is rejected with a 95% confidense."
     ]
    }
   ],
   "metadata": {}
  }
 ]
}