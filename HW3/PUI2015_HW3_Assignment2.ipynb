{
 "cells": [
  {
   "cell_type": "markdown",
   "metadata": {},
   "source": [
    "## Assignment: Homework 3 M Section\n",
    "## Name: Kiran Venkata Palla\n",
    "## Net Id: kvp246"
   ]
  },
  {
   "cell_type": "markdown",
   "metadata": {},
   "source": [
    "# Assignment 2:  Hypothesis testing\n",
    "\n",
    "Follow and understand the notebook https://github.com/fedhere/PUI2015_fbianco/blob/master/HW3/effectivenes%20of%20NYC%20Post-Prison%20Employment%20Programs.ipynb\n",
    "and repeat the z-test and chisq test for other data included in the paper we are working with. \n",
    "by fill in missing cells in (your own copy of) the notebook"
   ]
  },
  {
   "cell_type": "markdown",
   "metadata": {},
   "source": [
    "## Test of proportions on whether the former inmates were or were not ever employed in a CEO transitional job using 2 sample z-test\n",
    "\n",
    "NULL HYPOTHESIS: the % of former prisoners employed 3 years after release is the same or lower for candidates who participated in the program as for the control group, significance level p=0.05\n",
    "\n",
    "H0: P_0 - P_1 >= 0\n",
    "\n",
    "H1: P_0 - P_1 < 0\n",
    "\n",
    "$\\alpha$ = 0.05"
   ]
  },
  {
   "cell_type": "code",
   "execution_count": 2,
   "metadata": {
    "collapsed": false
   },
   "outputs": [
    {
     "name": "stdout",
     "output_type": "stream",
     "text": [
      "Control group proportion (P_0): 0.521\n",
      "Test group proportion (P_1): 0.533\n",
      "Sample proportion: 0.527955806783\n",
      "Standard deviation: 0.0324224126866\n",
      "z-score: 0.370114343926\n",
      "p-value: 0.3632\n",
      "is the p value 0.36 smaller than the critical value 0.05? \n",
      "NO!\n",
      "the Null hypothesis is not rejected\n"
     ]
    }
   ],
   "source": [
    "# Importing required libraries\n",
    "import numpy as np\n",
    "\n",
    "# Alpha value, level of significane 95%\n",
    "alpha = 0.05\n",
    "\n",
    "# Proportion values of employment in test and control samples\n",
    "P_0 = 52.1*0.01 \n",
    "P_1 = 53.3*0.01\n",
    "\n",
    "print \"Control group proportion (P_0):\", P_0\n",
    "print \"Test group proportion (P_1):\", P_1\n",
    "\n",
    "# Sample sizes of test and control groups\n",
    "n_0 = 409\n",
    "n_1 = 564\n",
    "\n",
    "# Relative frequency of employment in test and control samples\n",
    "Nt_0 = P_0 * n_0\n",
    "Nt_1 = P_1 * n_1\n",
    "\n",
    "# Sample proportion\n",
    "sp = (P_0 * n_0 + P_1 * n_1)/(n_1 + n_0)\n",
    "print \"Sample proportion:\", sp\n",
    "\n",
    "# Function for computing standard deviation value to compute z-score\n",
    "sp_stdev = lambda p, n: np.sqrt( p * ( 1 - p ) / n[0] +  p * ( 1 - p )/ n[1]  )\n",
    "\n",
    "sp_stdev_3y = sp_stdev((Nt_0 + Nt_1)/(n_0 + n_1),[n_0, n_1])\n",
    "\n",
    "print \"Standard deviation:\", sp_stdev_3y\n",
    "\n",
    "# Computing the z-score\n",
    "zscore = lambda p0, p1, s : (p0 - p1)/s\n",
    "\n",
    "z_3y = zscore(P_1, P_0, sp_stdev_3y)\n",
    "\n",
    "print \"z-score:\", z_3y\n",
    "\n",
    "## Looking at the standard normal distribution tables, cumulative probability (P) value is considered as 0.6368\n",
    "## This P is taken based on the aplha value of 0.05 and z-score of ~0.37011\n",
    "\n",
    "p_3y=1-0.6368\n",
    "\n",
    "print \"p-value:\", p_3y\n",
    "\n",
    "def report_result(p,a):\n",
    "    print 'is the p value {0:.2f} smaller than the critical value {1:.2f}? '.format(p,a)\n",
    "    if p<a:\n",
    "        print \"YES!\"\n",
    "    else: print \"NO!\"\n",
    "    \n",
    "    print 'the Null hypothesis is {}'.format( 'rejected' if p<a  else 'not rejected') \n",
    "\n",
    "report_result(p_3y,alpha)"
   ]
  },
  {
   "cell_type": "markdown",
   "metadata": {},
   "source": [
    "## Computing the chi-square statistic for the hypothesis about the employment for >6 consecutive quarters\n",
    "\n",
    "|employed for > 6 quarters |     employed   | not employed   |                   \n",
    "|---------------------------|----------------|------------------|---------------------------|\n",
    "| test sample               |   a  |  b    | a+b                       |\n",
    "| control sample            |   c |  d    | c+d                       |\n",
    "|                           |                |                  |                           |\n",
    "| total                     |   a+c     |  b+d         | a+b+c+d         |\n",
    "\n",
    "For a 2 x 2 contingency table the Chi Square statistic is calculated by the formula:\n",
    "\n",
    "Chi-square Statistic = ((ad-bc)^2 * (a+b+c+d)) / ((a+b)(c+d)(a+c)(b+d))"
   ]
  },
  {
   "cell_type": "code",
   "execution_count": 48,
   "metadata": {
    "collapsed": false
   },
   "outputs": [
    {
     "name": "stdout",
     "output_type": "stream",
     "text": [
      "1.58939333193\n"
     ]
    }
   ],
   "source": [
    "# Category of Interest = \"Employed for six or more consecutive quarters (%)\"\n",
    "# Performing the chi-square test on the given data\n",
    "\n",
    "Tot_Program_Grp = 564\n",
    "Tot_Control_Grp = 409\n",
    "\n",
    "Tot_Employed_Program_Grp = 0.147 * Tot_Program_Grp\n",
    "Tot_UnEmployed_Program_Grp = Tot_Program_Grp - Tot_Employed_Program_Grp\n",
    "\n",
    "Tot_Employed_Control_Grp = 0.119 * Tot_Control_Grp\n",
    "Tot_UnEmployed_Control_Grp = Tot_Control_Grp - Tot_Employed_Control_Grp\n",
    "\n",
    "a = Tot_Employed_Program_Grp\n",
    "b = Tot_UnEmployed_Program_Grp\n",
    "c = Tot_Employed_Control_Grp\n",
    "d = Tot_UnEmployed_Control_Grp\n",
    "\n",
    "Ntot = a + b + c + d\n",
    "expected = (a + b)*(c + d)*(a + c)*(b + d)\n",
    "sample_values = [[a,b],[c,d]]\n",
    " \n",
    "chisqstat= lambda N, values, expect : N*((values[0][0]*values[1][1]-values[0][1]*values[1][0])**2)/(expect)\n",
    "\n",
    "print chisqstat(Ntot,  sample_values, expected)"
   ]
  },
  {
   "cell_type": "markdown",
   "metadata": {},
   "source": [
    "Based on the given 2x2 contingency table data, say with an $\\alpha$ value of 0.05 (significance level) and for degrees of freedom = 1 ((row-1) * (col-1)), the critical value for this chi-square distribution would be 3.841. This critical value is taken from the standard chi-square distribution tables for the given values of $\\alpha$ = 0.05 and df = 1.\n",
    "\n",
    "Now based on the computed value of ~1.589, we can notice that this is lesser than the critical value of 3.841 and tends to fall under the significance level values of 0.9 and 0.05. This confirms the fact that p-value for the computed value is greater than 0.05, and based on this fact,\n",
    "\n",
    "### We fail to reject the NULL Hypothesis that there is no statistically significant difference in the proportion of prison test and control groups with respect to employability for more than 6 consecutive quarters"
   ]
  },
  {
   "cell_type": "code",
   "execution_count": null,
   "metadata": {
    "collapsed": true
   },
   "outputs": [],
   "source": []
  }
 ],
 "metadata": {
  "kernelspec": {
   "display_name": "Python 2",
   "language": "python",
   "name": "python2"
  },
  "language_info": {
   "codemirror_mode": {
    "name": "ipython",
    "version": 2
   },
   "file_extension": ".py",
   "mimetype": "text/x-python",
   "name": "python",
   "nbconvert_exporter": "python",
   "pygments_lexer": "ipython2",
   "version": "2.7.10"
  }
 },
 "nbformat": 4,
 "nbformat_minor": 0
}
